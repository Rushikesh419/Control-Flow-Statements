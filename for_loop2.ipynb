{
  "nbformat": 4,
  "nbformat_minor": 0,
  "metadata": {
    "colab": {
      "provenance": [],
      "authorship_tag": "ABX9TyM+la131sTZ/Ydnzu1PBf7S",
      "include_colab_link": true
    },
    "kernelspec": {
      "name": "python3",
      "display_name": "Python 3"
    },
    "language_info": {
      "name": "python"
    }
  },
  "cells": [
    {
      "cell_type": "markdown",
      "metadata": {
        "id": "view-in-github",
        "colab_type": "text"
      },
      "source": [
        "<a href=\"https://colab.research.google.com/github/Rushikesh419/Control-Flow-Statements/blob/main/for_loop2.ipynb\" target=\"_parent\"><img src=\"https://colab.research.google.com/assets/colab-badge.svg\" alt=\"Open In Colab\"/></a>"
      ]
    },
    {
      "cell_type": "code",
      "execution_count": 1,
      "metadata": {
        "colab": {
          "base_uri": "https://localhost:8080/"
        },
        "id": "XwrZTzQbwXBb",
        "outputId": "d4409ad6-a85b-4668-dee2-cfc843831e70"
      },
      "outputs": [
        {
          "output_type": "stream",
          "name": "stdout",
          "text": [
            "enter the number : 10\n",
            "addition of even numbers is 20 and of odd numbers is 25\n"
          ]
        }
      ],
      "source": [
        "#addiion of odd and even nuber up to given number\n",
        "n=int(input('enter the number : '))\n",
        "even=0\n",
        "odd=0\n",
        "for i in range(n):\n",
        "    if i%2==0:\n",
        "        even=even+i\n",
        "    else:\n",
        "        odd=odd+i\n",
        "print(f'addition of even numbers is {even} and of odd numbers is {odd}')\n"
      ]
    },
    {
      "cell_type": "code",
      "source": [
        "# factorial of a number\n",
        "n=int(input('enter the number : '))\n",
        "factorial=1\n",
        "if n<0:\n",
        "    print('factorial does not exist for negative number')\n",
        "elif n==0:\n",
        "    print('factorial of 0 is 1')\n",
        "else:\n",
        "    for i in range(1,n+1):\n",
        "        factorial=factorial*i \n",
        "print(f'factorial of {n} numbers is {factorial}')"
      ],
      "metadata": {
        "colab": {
          "base_uri": "https://localhost:8080/"
        },
        "id": "iyOUegHQwra-",
        "outputId": "d21b00ca-25d1-4e3e-8dcd-9092de78c790"
      },
      "execution_count": 2,
      "outputs": [
        {
          "output_type": "stream",
          "name": "stdout",
          "text": [
            "enter the number : 5\n",
            "factorial of 5 numbers is 120\n"
          ]
        }
      ]
    },
    {
      "cell_type": "code",
      "source": [
        "# fibonacci series by for loop\n",
        "n=int(input('enter the number : '))\n",
        "current=0\n",
        "previous=1\n",
        "for i in range(n):\n",
        "    print(current, end=' ')\n",
        "    previous,current=current,previous+current"
      ],
      "metadata": {
        "id": "cKZwh_lawyNo"
      },
      "execution_count": null,
      "outputs": []
    }
  ]
}