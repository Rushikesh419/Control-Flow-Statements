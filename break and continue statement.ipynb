{
  "nbformat": 4,
  "nbformat_minor": 0,
  "metadata": {
    "colab": {
      "provenance": [],
      "authorship_tag": "ABX9TyOPh/vVzzAfW8eFuTK9696F",
      "include_colab_link": true
    },
    "kernelspec": {
      "name": "python3",
      "display_name": "Python 3"
    },
    "language_info": {
      "name": "python"
    }
  },
  "cells": [
    {
      "cell_type": "markdown",
      "metadata": {
        "id": "view-in-github",
        "colab_type": "text"
      },
      "source": [
        "<a href=\"https://colab.research.google.com/github/Rushikesh419/Control-Flow-Statements/blob/main/break%20and%20continue%20statement.ipynb\" target=\"_parent\"><img src=\"https://colab.research.google.com/assets/colab-badge.svg\" alt=\"Open In Colab\"/></a>"
      ]
    },
    {
      "cell_type": "code",
      "source": [
        "# prime number \n",
        "n=int(input('enter the number : '))\n",
        "prime=True\n",
        "for i in range(2,n):\n",
        "    if n%i==0:\n",
        "        prime=False\n",
        "        break\n",
        "if prime:\n",
        "    print(f'{n} is prime number')\n",
        "else:\n",
        "    print(f'{n} is not prime number')"
      ],
      "metadata": {
        "colab": {
          "base_uri": "https://localhost:8080/"
        },
        "id": "Z1Xf0MX_AtZm",
        "outputId": "31e19f3c-930d-4c80-f104-65949537dbbb"
      },
      "execution_count": 5,
      "outputs": [
        {
          "output_type": "stream",
          "name": "stdout",
          "text": [
            "enter the number : 36\n",
            "36 is not prime number\n"
          ]
        }
      ]
    },
    {
      "cell_type": "code",
      "source": [
        "\n",
        "i=0\n",
        "while i<100:\n",
        "    print(i,end=' ')\n",
        "    i=i+1\n",
        "    if i==51:\n",
        "        break\n",
        "    if i==10:\n",
        "        i=i+1\n",
        "        continue \n",
        "      "
      ],
      "metadata": {
        "colab": {
          "base_uri": "https://localhost:8080/"
        },
        "id": "gTS5DzPQA_xQ",
        "outputId": "6fff00c7-cfc0-4e11-8464-783faeb50e43"
      },
      "execution_count": 8,
      "outputs": [
        {
          "output_type": "stream",
          "name": "stdout",
          "text": [
            "0 1 2 3 4 5 6 7 8 9 11 12 13 14 15 16 17 18 19 20 21 22 23 24 25 26 27 28 29 30 31 32 33 34 35 36 37 38 39 40 41 42 43 44 45 46 47 48 49 50 "
          ]
        }
      ]
    },
    {
      "cell_type": "code",
      "source": [
        "cart=[10,20,500,700,50.60]\n",
        "for item in cart:\n",
        "    if item>=500:\n",
        "        continue\n",
        "    print(item)"
      ],
      "metadata": {
        "colab": {
          "base_uri": "https://localhost:8080/"
        },
        "id": "F6c9uU86BRNn",
        "outputId": "4622126a-7e9c-4420-9fa3-9e8abc17654d"
      },
      "execution_count": 9,
      "outputs": [
        {
          "output_type": "stream",
          "name": "stdout",
          "text": [
            "10\n",
            "20\n",
            "50.6\n"
          ]
        }
      ]
    }
  ]
}