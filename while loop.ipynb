{
  "nbformat": 4,
  "nbformat_minor": 0,
  "metadata": {
    "colab": {
      "provenance": [],
      "authorship_tag": "ABX9TyOy0h4IZZkeMJEQxLYb9k66",
      "include_colab_link": true
    },
    "kernelspec": {
      "name": "python3",
      "display_name": "Python 3"
    },
    "language_info": {
      "name": "python"
    }
  },
  "cells": [
    {
      "cell_type": "markdown",
      "metadata": {
        "id": "view-in-github",
        "colab_type": "text"
      },
      "source": [
        "<a href=\"https://colab.research.google.com/github/Rushikesh419/Control-Flow-Statements/blob/main/while%20loop.ipynb\" target=\"_parent\"><img src=\"https://colab.research.google.com/assets/colab-badge.svg\" alt=\"Open In Colab\"/></a>"
      ]
    },
    {
      "cell_type": "code",
      "execution_count": 2,
      "metadata": {
        "colab": {
          "base_uri": "https://localhost:8080/"
        },
        "id": "09Xj5RfkPDNH",
        "outputId": "92e4f68c-498f-46e8-eed8-804ada30f829"
      },
      "outputs": [
        {
          "output_type": "stream",
          "name": "stdout",
          "text": [
            "enter the number of times2\n",
            "hello\n",
            "hello\n"
          ]
        }
      ],
      "source": [
        "# print hello world as much user wants\n",
        "n=int(input('enter the number of times'))\n",
        "i=1\n",
        "while i<=n:\n",
        "    print('hello')\n",
        "    i=i+1"
      ]
    },
    {
      "cell_type": "code",
      "source": [
        "n=int(input('enter the number upto which you want to find average : '))\n",
        "i=0\n",
        "sum=0\n",
        "count=0\n",
        "while i<n:\n",
        "    i=i+1\n",
        "    sum=sum+i\n",
        "    count=count+1\n",
        "average=sum/count\n",
        "print(f'average upto {n} numbers is {average}')"
      ],
      "metadata": {
        "colab": {
          "base_uri": "https://localhost:8080/"
        },
        "id": "YySTdJMiPkcg",
        "outputId": "48dbf5aa-9d43-4158-a4ce-5549ab04b165"
      },
      "execution_count": 3,
      "outputs": [
        {
          "output_type": "stream",
          "name": "stdout",
          "text": [
            "enter the number upto which you want to find average : 10\n",
            "average upto 10 numbers is 5.5\n"
          ]
        }
      ]
    },
    {
      "cell_type": "code",
      "source": [
        "# display the fibonacci series based on number of terms\n",
        "n=int(input('how many terms'))\n",
        "current=0\n",
        "previous=1\n",
        "count=0\n",
        "next_term=0\n",
        "if n<=0:\n",
        "    print('please enter positive number')\n",
        "elif n==1:\n",
        "    print('fibonacci series')\n",
        "    print('0')\n",
        "else:\n",
        "    print('fibonacci series')\n",
        "    while count<n:\n",
        "        print(next_term)\n",
        "        current=next_term\n",
        "        next_term=previous+current\n",
        "        previous=current\n",
        "        count+=1"
      ],
      "metadata": {
        "colab": {
          "base_uri": "https://localhost:8080/"
        },
        "id": "zrdgJjS7P6Et",
        "outputId": "df236150-b174-463f-dbf1-ae0df6015ec3"
      },
      "execution_count": 4,
      "outputs": [
        {
          "output_type": "stream",
          "name": "stdout",
          "text": [
            "how many terms5\n",
            "fibonacci series\n",
            "0\n",
            "1\n",
            "1\n",
            "2\n",
            "3\n"
          ]
        }
      ]
    },
    {
      "cell_type": "code",
      "source": [
        "# fibonacci series up to the number you want\n",
        "n=int(input('number upto which you want to find fibonacci series'))\n",
        "first_term=0\n",
        "second_term=1\n",
        "print('fibonacci sequence')\n",
        "while second_term in range (n):\n",
        "    print(second_term,end=' ')\n",
        "    first_term,second_term = second_term,first_term+second_term"
      ],
      "metadata": {
        "colab": {
          "base_uri": "https://localhost:8080/"
        },
        "id": "Qmruge7PQG01",
        "outputId": "2fd03d03-7680-4c34-b954-d2258b656260"
      },
      "execution_count": 5,
      "outputs": [
        {
          "output_type": "stream",
          "name": "stdout",
          "text": [
            "number upto which you want to find fibonacci series100\n",
            "fibonacci sequence\n",
            "1 1 2 3 5 8 13 21 34 55 89 "
          ]
        }
      ]
    }
  ]
}