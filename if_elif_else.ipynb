{
  "nbformat": 4,
  "nbformat_minor": 0,
  "metadata": {
    "colab": {
      "provenance": [],
      "authorship_tag": "ABX9TyMTaAJ5EnndPHO2gcTHzyST",
      "include_colab_link": true
    },
    "kernelspec": {
      "name": "python3",
      "display_name": "Python 3"
    },
    "language_info": {
      "name": "python"
    }
  },
  "cells": [
    {
      "cell_type": "markdown",
      "metadata": {
        "id": "view-in-github",
        "colab_type": "text"
      },
      "source": [
        "<a href=\"https://colab.research.google.com/github/Rushikesh419/Control-Flow-Statements/blob/main/if_elif_else.ipynb\" target=\"_parent\"><img src=\"https://colab.research.google.com/assets/colab-badge.svg\" alt=\"Open In Colab\"/></a>"
      ]
    },
    {
      "cell_type": "code",
      "execution_count": 1,
      "metadata": {
        "colab": {
          "base_uri": "https://localhost:8080/"
        },
        "id": "Gek7V0hPbuzG",
        "outputId": "e1de3539-17ec-4617-9554-692f986f21c6"
      },
      "outputs": [
        {
          "output_type": "stream",
          "name": "stdout",
          "text": [
            "marks of math85\n",
            "marks of physics95\n",
            "marks of chemistry96\n",
            "The average of your marks is 92.0\n",
            "your grade A\n"
          ]
        }
      ],
      "source": [
        "#GRADE CALCULATION using if elif else\n",
        "\n",
        "math=int(input('marks of math'))\n",
        "physics=int(input('marks of physics'))\n",
        "chemistry=int(input('marks of chemistry'))\n",
        "average=(math+physics+chemistry)/3\n",
        "print(f\"The average of your marks is {average}\")\n",
        "if average>90:\n",
        "    print('your grade A')\n",
        "elif average >80 and average<= 90:\n",
        "    print('your grade B')\n",
        "elif average >70 and average<= 80:\n",
        "    print('your grade C')\n",
        "elif average >60 and average<= 70:\n",
        "    print('your grade D')\n",
        "else:\n",
        "    print('sorry, you have failed')"
      ]
    }
  ]
}