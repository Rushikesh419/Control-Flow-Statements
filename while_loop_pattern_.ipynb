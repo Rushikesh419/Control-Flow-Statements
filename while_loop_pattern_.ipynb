{
  "nbformat": 4,
  "nbformat_minor": 0,
  "metadata": {
    "colab": {
      "provenance": [],
      "authorship_tag": "ABX9TyPJlmMtQ8lZX1XHqQ6KSRmD",
      "include_colab_link": true
    },
    "kernelspec": {
      "name": "python3",
      "display_name": "Python 3"
    },
    "language_info": {
      "name": "python"
    }
  },
  "cells": [
    {
      "cell_type": "markdown",
      "metadata": {
        "id": "view-in-github",
        "colab_type": "text"
      },
      "source": [
        "<a href=\"https://colab.research.google.com/github/Rushikesh419/Control-Flow-Statements/blob/main/while_loop_pattern_.ipynb\" target=\"_parent\"><img src=\"https://colab.research.google.com/assets/colab-badge.svg\" alt=\"Open In Colab\"/></a>"
      ]
    },
    {
      "cell_type": "code",
      "execution_count": 2,
      "metadata": {
        "colab": {
          "base_uri": "https://localhost:8080/"
        },
        "id": "TTTFv6DTo8Ju",
        "outputId": "88e913bb-8bb4-45dd-9999-8df477af34d6"
      },
      "outputs": [
        {
          "output_type": "stream",
          "name": "stdout",
          "text": [
            "enter the number of rows : 5\n",
            "*\n",
            "**\n",
            "***\n",
            "****\n",
            "*****\n"
          ]
        }
      ],
      "source": [
        "#1) pattern by while loop\n",
        "n=int(input('enter the number of rows : '))\n",
        "i=1\n",
        "while i<=n:\n",
        "    j=1\n",
        "    while j<=i:\n",
        "        print('*',end='')                    \n",
        "        j=j+1\n",
        "    print()\n",
        "    i=i+1"
      ]
    },
    {
      "cell_type": "code",
      "source": [
        "# OR the next pattern\n",
        "n=int(input('enter the number of rows : '))\n",
        "i=1\n",
        "while i<=n:                                           #1\n",
        "    j=1                                               #22\n",
        "    while j<=i:                                       #333\n",
        "        print(i,end='')                               #4444   PATTERN\n",
        "        j=j+1\n",
        "    print()\n",
        "    i=i+1"
      ],
      "metadata": {
        "colab": {
          "base_uri": "https://localhost:8080/"
        },
        "id": "xIybdHYUpNUc",
        "outputId": "d0d55d1e-e4fd-4923-9895-78f5c14f6860"
      },
      "execution_count": 3,
      "outputs": [
        {
          "output_type": "stream",
          "name": "stdout",
          "text": [
            "enter the number of rows : 5\n",
            "1\n",
            "22\n",
            "333\n",
            "4444\n",
            "55555\n"
          ]
        }
      ]
    },
    {
      "cell_type": "code",
      "source": [
        "# or next pattern\n",
        "n=int(input('enter the number of rows : '))\n",
        "i=1\n",
        "while i<=n:\n",
        "    j=1\n",
        "    while j<=i:                                            #1\n",
        "        print(j,end='')                                    #12\n",
        "        j=j+1                                              #123\n",
        "    print()                                                #1234    PATTERN\n",
        "    i=i+1"
      ],
      "metadata": {
        "colab": {
          "base_uri": "https://localhost:8080/"
        },
        "id": "AbLk2GxSpZgu",
        "outputId": "d937e6ba-2d90-44b3-b1a1-7bd13e6d132f"
      },
      "execution_count": 4,
      "outputs": [
        {
          "output_type": "stream",
          "name": "stdout",
          "text": [
            "enter the number of rows : 5\n",
            "1\n",
            "12\n",
            "123\n",
            "1234\n",
            "12345\n"
          ]
        }
      ]
    },
    {
      "cell_type": "code",
      "source": [
        "#2) OPPOSITE OF UPPER PROGRAM\n",
        "n=int(input('enter the number of rows : '))\n",
        "i=1\n",
        "while i<=n:\n",
        "    b=1\n",
        "    while b<=(n-i):\n",
        "        print(' ',end='')\n",
        "        b+=1\n",
        "    j=1\n",
        "    while j<=i:\n",
        "        print('*',end='')\n",
        "        j+=1\n",
        "    print()\n",
        "    i+=1"
      ],
      "metadata": {
        "colab": {
          "base_uri": "https://localhost:8080/"
        },
        "id": "Hk71tMfppc0X",
        "outputId": "1f3202d7-cce4-417f-b6ab-ce4aaa5e332c"
      },
      "execution_count": 5,
      "outputs": [
        {
          "output_type": "stream",
          "name": "stdout",
          "text": [
            "enter the number of rows : 5\n",
            "    *\n",
            "   **\n",
            "  ***\n",
            " ****\n",
            "*****\n"
          ]
        }
      ]
    },
    {
      "cell_type": "code",
      "source": [],
      "metadata": {
        "id": "KQ2ITpGNpoC1"
      },
      "execution_count": null,
      "outputs": []
    }
  ]
}