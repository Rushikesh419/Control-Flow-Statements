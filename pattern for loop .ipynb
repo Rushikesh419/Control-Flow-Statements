{
  "nbformat": 4,
  "nbformat_minor": 0,
  "metadata": {
    "colab": {
      "provenance": [],
      "authorship_tag": "ABX9TyNRICqzfDFlEddL4DkXaygU",
      "include_colab_link": true
    },
    "kernelspec": {
      "name": "python3",
      "display_name": "Python 3"
    },
    "language_info": {
      "name": "python"
    }
  },
  "cells": [
    {
      "cell_type": "markdown",
      "metadata": {
        "id": "view-in-github",
        "colab_type": "text"
      },
      "source": [
        "<a href=\"https://colab.research.google.com/github/Rushikesh419/Control-Flow-Statements/blob/main/pattern%20for%20loop%20.ipynb\" target=\"_parent\"><img src=\"https://colab.research.google.com/assets/colab-badge.svg\" alt=\"Open In Colab\"/></a>"
      ]
    },
    {
      "cell_type": "code",
      "execution_count": 1,
      "metadata": {
        "colab": {
          "base_uri": "https://localhost:8080/"
        },
        "id": "4bnyYo53qCOA",
        "outputId": "53070ca4-b379-43b2-8228-45d072a5cdbb"
      },
      "outputs": [
        {
          "output_type": "stream",
          "name": "stdout",
          "text": [
            "enter the number of rows : 5\n",
            "1\n",
            "12\n",
            "123\n",
            "1234\n",
            "12345\n"
          ]
        }
      ],
      "source": [
        "# 1) simple one side pyramid\n",
        "n=int(input('enter the number of rows : '))\n",
        "for i in range (1,n+1):\n",
        "    for j in range(1,i+1):\n",
        "        print(j,end='')\n",
        "    print()"
      ]
    },
    {
      "cell_type": "code",
      "source": [
        "# 2) 54321\n",
        "#    5432\n",
        "#    543\n",
        "#    54\n",
        "#    5\n",
        "n=int(input('enter the number of rows : '))\n",
        "for i in range (n,0,-1):\n",
        "    for j in range(n,n-i,-1):\n",
        "        print(j,end='')\n",
        "    print()"
      ],
      "metadata": {
        "colab": {
          "base_uri": "https://localhost:8080/"
        },
        "id": "25z3fmsMqInc",
        "outputId": "cbf21519-c664-4d46-8e24-60fb8a43010d"
      },
      "execution_count": 2,
      "outputs": [
        {
          "output_type": "stream",
          "name": "stdout",
          "text": [
            "enter the number of rows : 5\n",
            "54321\n",
            "5432\n",
            "543\n",
            "54\n",
            "5\n"
          ]
        }
      ]
    },
    {
      "cell_type": "code",
      "source": [
        "# 3) 55555\n",
        "#    4444\n",
        "#    333\n",
        "#    22\n",
        "#    1\n",
        "n=int(input('enter the number of rows : '))\n",
        "for i in range(n,0,-1):\n",
        "    for j in range(i):\n",
        "        print(i,end='')\n",
        "    print()"
      ],
      "metadata": {
        "colab": {
          "base_uri": "https://localhost:8080/"
        },
        "id": "jnJB2dTyqKhr",
        "outputId": "86f36de5-9fa1-4b0f-dbca-84e3c90e723d"
      },
      "execution_count": 3,
      "outputs": [
        {
          "output_type": "stream",
          "name": "stdout",
          "text": [
            "enter the number of rows : 5\n",
            "55555\n",
            "4444\n",
            "333\n",
            "22\n",
            "1\n"
          ]
        }
      ]
    },
    {
      "cell_type": "code",
      "source": [
        "#4) 12345\n",
        "#   1234\n",
        "#   123\n",
        "#   12\n",
        "#   1\n",
        "n=int(input('enter the number of rows : '))\n",
        "for i in range(n+1,0,-1):\n",
        "    for j in range(1,i):\n",
        "        print(j,end='')\n",
        "    print()"
      ],
      "metadata": {
        "colab": {
          "base_uri": "https://localhost:8080/"
        },
        "id": "ahhMFUjHqant",
        "outputId": "0085c83e-d50f-4b58-92c5-61b8987968ba"
      },
      "execution_count": 4,
      "outputs": [
        {
          "output_type": "stream",
          "name": "stdout",
          "text": [
            "enter the number of rows : 5\n",
            "12345\n",
            "1234\n",
            "123\n",
            "12\n",
            "1\n",
            "\n"
          ]
        }
      ]
    }
  ]
}