{
  "nbformat": 4,
  "nbformat_minor": 0,
  "metadata": {
    "colab": {
      "provenance": [],
      "authorship_tag": "ABX9TyO7i3crFqydvp1affEP2Q4G",
      "include_colab_link": true
    },
    "kernelspec": {
      "name": "python3",
      "display_name": "Python 3"
    },
    "language_info": {
      "name": "python"
    }
  },
  "cells": [
    {
      "cell_type": "markdown",
      "metadata": {
        "id": "view-in-github",
        "colab_type": "text"
      },
      "source": [
        "<a href=\"https://colab.research.google.com/github/Rushikesh419/Control-Flow-Statements/blob/main/pattern%20.ipynb\" target=\"_parent\"><img src=\"https://colab.research.google.com/assets/colab-badge.svg\" alt=\"Open In Colab\"/></a>"
      ]
    },
    {
      "cell_type": "code",
      "execution_count": null,
      "metadata": {
        "id": "P9hf0N6OzA8W",
        "outputId": "615a2681-955c-4f12-c158-c54fa747ffdb",
        "colab": {
          "base_uri": "https://localhost:8080/"
        }
      },
      "outputs": [
        {
          "output_type": "stream",
          "name": "stdout",
          "text": [
            "enter the number of rows : 5\n",
            "*********\n",
            " *******\n",
            "  *****\n",
            "   ***\n",
            "    *\n"
          ]
        }
      ],
      "source": [
        "# upside down pyramid\n",
        "n=int(input('enter the number of rows : '))\n",
        "i=1\n",
        "while n>0:\n",
        "    b=1\n",
        "    while b<i:\n",
        "        print(' ',end='')\n",
        "        b=b+1\n",
        "    j=1\n",
        "    while j<=((n*2)-1):\n",
        "        print('*',end='')\n",
        "        j=j+1\n",
        "    print()\n",
        "    n=n-1\n",
        "    i=i+1\n"
      ]
    },
    {
      "cell_type": "code",
      "source": [
        "# another one\n",
        "n=int(input('enter the number of rows : '))\n",
        "i=1\n",
        "while n>0:\n",
        "    b=1\n",
        "    while b<i:\n",
        "        print(' ',end='')\n",
        "        b=b+1\n",
        "    j=1\n",
        "    while j<=((n*2)-1):\n",
        "        print(i,end='')\n",
        "        j=j+1\n",
        "    print()\n",
        "    n=n-1\n",
        "    i=i+1"
      ],
      "metadata": {
        "id": "zR7GJLHrzKIL",
        "outputId": "bb1359fd-f51d-4df8-93ee-ef1b569afd3d",
        "colab": {
          "base_uri": "https://localhost:8080/"
        }
      },
      "execution_count": null,
      "outputs": [
        {
          "output_type": "stream",
          "name": "stdout",
          "text": [
            "enter the number of rows : 5\n",
            "111111111\n",
            " 2222222\n",
            "  33333\n",
            "   444\n",
            "    5\n"
          ]
        }
      ]
    }
  ]
}