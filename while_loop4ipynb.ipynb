{
  "nbformat": 4,
  "nbformat_minor": 0,
  "metadata": {
    "colab": {
      "provenance": [],
      "authorship_tag": "ABX9TyO3xRMJ95+fp9Jc4TnQ5854",
      "include_colab_link": true
    },
    "kernelspec": {
      "name": "python3",
      "display_name": "Python 3"
    },
    "language_info": {
      "name": "python"
    }
  },
  "cells": [
    {
      "cell_type": "markdown",
      "metadata": {
        "id": "view-in-github",
        "colab_type": "text"
      },
      "source": [
        "<a href=\"https://colab.research.google.com/github/Rushikesh419/Control-Flow-Statements/blob/main/while_loop4ipynb.ipynb\" target=\"_parent\"><img src=\"https://colab.research.google.com/assets/colab-badge.svg\" alt=\"Open In Colab\"/></a>"
      ]
    },
    {
      "cell_type": "code",
      "execution_count": 1,
      "metadata": {
        "colab": {
          "base_uri": "https://localhost:8080/"
        },
        "id": "X4rqFvGfxNEk",
        "outputId": "9dc9184d-f51e-459e-bf28-faa6d55fb9bc"
      },
      "outputs": [
        {
          "output_type": "stream",
          "name": "stdout",
          "text": [
            "enter the number : 10\n",
            "enter the second number : 19\n",
            "10\n",
            "12\n",
            "14\n",
            "16\n",
            "18\n"
          ]
        }
      ],
      "source": [
        "# print all even number between given number\n",
        "\n",
        "n1=int(input('enter the number : '))\n",
        "n2=int(input('enter the second number : '))\n",
        "i=n1\n",
        "while i<=n2:\n",
        "    if i%2==0:\n",
        "        print(i)\n",
        "    i=i+1"
      ]
    },
    {
      "cell_type": "code",
      "source": [
        "#number is prime or not\n",
        "n=int(input('enter the number : '))\n",
        "i=2\n",
        "count=0\n",
        "while i<n:\n",
        "    if n%i==0:\n",
        "        count=count+1\n",
        "    i=i+1\n",
        "if count==0:\n",
        "    print(' it is a prime number ')\n",
        "else:\n",
        "    print('it is not prime prime number')"
      ],
      "metadata": {
        "colab": {
          "base_uri": "https://localhost:8080/"
        },
        "id": "AxMx-IouxVkB",
        "outputId": "e1042eed-59a1-40f2-edac-995219130b0d"
      },
      "execution_count": 2,
      "outputs": [
        {
          "output_type": "stream",
          "name": "stdout",
          "text": [
            "enter the number : 5\n",
            " it is prime \n"
          ]
        }
      ]
    }
  ]
}