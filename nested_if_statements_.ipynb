{
  "nbformat": 4,
  "nbformat_minor": 0,
  "metadata": {
    "colab": {
      "provenance": [],
      "authorship_tag": "ABX9TyMqGSvnX4nGhdg/jv4N7zm3",
      "include_colab_link": true
    },
    "kernelspec": {
      "name": "python3",
      "display_name": "Python 3"
    },
    "language_info": {
      "name": "python"
    }
  },
  "cells": [
    {
      "cell_type": "markdown",
      "metadata": {
        "id": "view-in-github",
        "colab_type": "text"
      },
      "source": [
        "<a href=\"https://colab.research.google.com/github/Rushikesh419/Control-Flow-Statements/blob/main/nested_if_statements_.ipynb\" target=\"_parent\"><img src=\"https://colab.research.google.com/assets/colab-badge.svg\" alt=\"Open In Colab\"/></a>"
      ]
    },
    {
      "cell_type": "code",
      "execution_count": 1,
      "metadata": {
        "colab": {
          "base_uri": "https://localhost:8080/"
        },
        "id": "La_VI1IcdxWU",
        "outputId": "23a75c62-0c58-4592-bb85-79134436d729"
      },
      "outputs": [
        {
          "output_type": "stream",
          "name": "stdout",
          "text": [
            "enter a year2000\n",
            "it's a leap year\n"
          ]
        }
      ],
      "source": [
        "# to find out year is leap year or not\n",
        "\n",
        "year =int(input(\"enter a year\"))\n",
        "if year % 4 == 0:\n",
        "    if year % 100 == 0:\n",
        "        if year % 400 == 0:\n",
        "            print(\"it's a leap year\")\n",
        "        else:\n",
        "            print(f'{year}is not leap year')\n",
        "    else:\n",
        "        print(f\"{year} is a leap year\")\n",
        "else:\n",
        "    print(f\"{year}is not a leap year\")\n"
      ]
    },
    {
      "cell_type": "code",
      "source": [
        "#python program to find numbers divisible by 7 and multiple by 5 between 1500 and 2700 both included\n",
        "\n",
        "number=int(input(\"enter the number\"))\n",
        "if number>=1500 and number<=1700:\n",
        "    if number %7==0 and number%5==0:\n",
        "        print(f\"{number}is divisible\")\n",
        "    else:\n",
        "        print(f\"{number} is not divisible \")\n",
        "else:\n",
        "    print(f\"{number}is not divisible\")\n"
      ],
      "metadata": {
        "colab": {
          "base_uri": "https://localhost:8080/"
        },
        "id": "iSgLhbP6eMTU",
        "outputId": "1850893f-fce5-49e0-ef95-d1e9e12c27dd"
      },
      "execution_count": 2,
      "outputs": [
        {
          "output_type": "stream",
          "name": "stdout",
          "text": [
            "enter the number1605\n",
            "1605 is not divisible \n"
          ]
        }
      ]
    }
  ]
}