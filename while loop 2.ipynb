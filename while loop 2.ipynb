{
  "nbformat": 4,
  "nbformat_minor": 0,
  "metadata": {
    "colab": {
      "provenance": [],
      "authorship_tag": "ABX9TyOkLqb18vLiTljLrMq+bnDo",
      "include_colab_link": true
    },
    "kernelspec": {
      "name": "python3",
      "display_name": "Python 3"
    },
    "language_info": {
      "name": "python"
    }
  },
  "cells": [
    {
      "cell_type": "markdown",
      "metadata": {
        "id": "view-in-github",
        "colab_type": "text"
      },
      "source": [
        "<a href=\"https://colab.research.google.com/github/Rushikesh419/Control-Flow-Statements/blob/main/while%20loop%202.ipynb\" target=\"_parent\"><img src=\"https://colab.research.google.com/assets/colab-badge.svg\" alt=\"Open In Colab\"/></a>"
      ]
    },
    {
      "cell_type": "code",
      "execution_count": 5,
      "metadata": {
        "colab": {
          "base_uri": "https://localhost:8080/"
        },
        "id": "5Rj9jaqvQr-h",
        "outputId": "5aa550b7-b011-4964-bbaa-b3834ba9a9bd"
      },
      "outputs": [
        {
          "name": "stdout",
          "output_type": "stream",
          "text": [
            "enter the initial largest number : 5\n",
            "enter the number you want to check : 10\n",
            "largest number is 10\n",
            "enter a number to check whether it is largest or not6\n",
            "largest number is 10\n",
            "enter a number to check whether it is largest or notdone\n"
          ]
        }
      ],
      "source": [
        "# check largest number until user types done\n",
        "largest_number=int(input('enter the initial largest number : '))\n",
        "check_number=int(input('enter the number you want to check : '))\n",
        "while check_number != \"done\":\n",
        "  if largest_number >int(check_number) :\n",
        "    print(f'largest number is {largest_number}')\n",
        "  else:\n",
        "    largest_number = check_number \n",
        "    print(f'largest number is {largest_number}')\n",
        "  check_number=(input('enter a number to check whether it is largest or not'))"
      ]
    },
    {
      "cell_type": "code",
      "source": [
        "# add odd and even numbers from 100 to 200 using while loop\n",
        "i=100\n",
        "even=0\n",
        "odd=0\n",
        "while i<=200:\n",
        "    if i%2==0:\n",
        "        even=even+i\n",
        "        i=i+1\n",
        "    else:\n",
        "        odd=odd+i\n",
        "        i=i+1\n",
        "print(f'addition between odd numbers between 100 to 200 is {odd} and even is {even}')"
      ],
      "metadata": {
        "colab": {
          "base_uri": "https://localhost:8080/"
        },
        "id": "Q2OwDsRvTDy1",
        "outputId": "fa1168e4-79e9-4827-c4ea-28d5ecd26116"
      },
      "execution_count": 6,
      "outputs": [
        {
          "output_type": "stream",
          "name": "stdout",
          "text": [
            "addition between odd numbers between 100 to 200 is 7500 and even is 7650\n"
          ]
        }
      ]
    }
  ]
}