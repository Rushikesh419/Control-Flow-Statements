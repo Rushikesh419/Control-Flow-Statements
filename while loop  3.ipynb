{
  "nbformat": 4,
  "nbformat_minor": 0,
  "metadata": {
    "colab": {
      "provenance": [],
      "authorship_tag": "ABX9TyOEBuK4eJz8QVTUWc2qlK7c",
      "include_colab_link": true
    },
    "kernelspec": {
      "name": "python3",
      "display_name": "Python 3"
    },
    "language_info": {
      "name": "python"
    }
  },
  "cells": [
    {
      "cell_type": "markdown",
      "metadata": {
        "id": "view-in-github",
        "colab_type": "text"
      },
      "source": [
        "<a href=\"https://colab.research.google.com/github/Rushikesh419/Control-Flow-Statements/blob/main/while%20loop%20%203.ipynb\" target=\"_parent\"><img src=\"https://colab.research.google.com/assets/colab-badge.svg\" alt=\"Open In Colab\"/></a>"
      ]
    },
    {
      "cell_type": "code",
      "execution_count": 1,
      "metadata": {
        "colab": {
          "base_uri": "https://localhost:8080/"
        },
        "id": "AyAvZ1ZUTmug",
        "outputId": "9817ee35-4df5-4761-e3cc-132002fb9307"
      },
      "outputs": [
        {
          "output_type": "stream",
          "name": "stdout",
          "text": [
            "enter the number : 123456987\n",
            "45\n"
          ]
        }
      ],
      "source": [
        "# to find sum of digits in number\n",
        "i=int(input('enter the number : '))\n",
        "sum=0\n",
        "while i>0:\n",
        "    sum=sum+i%10\n",
        "    i=i//10\n",
        "print(sum)\n",
        "\n",
        "\n"
      ]
    },
    {
      "cell_type": "code",
      "source": [
        "# to find sum of square of digit  in numbers \n",
        "i=int(input('enter the number : '))\n",
        "sum=0\n",
        "while i>0:\n",
        "    sum=sum+(i%10)*(i%10)\n",
        "    i=i//10\n",
        "print(sum)\n"
      ],
      "metadata": {
        "colab": {
          "base_uri": "https://localhost:8080/"
        },
        "id": "I5HuUwGeUEe8",
        "outputId": "7e5f0f05-0940-4868-a1e1-41110db1c8ca"
      },
      "execution_count": 2,
      "outputs": [
        {
          "output_type": "stream",
          "name": "stdout",
          "text": [
            "enter the number : 12345\n",
            "55\n"
          ]
        }
      ]
    },
    {
      "cell_type": "code",
      "source": [
        "#the product of odd number and addition of even digits in a number\n",
        "i=int(input(' enter the number : '))\n",
        "sum=0\n",
        "prod=1\n",
        "while i>0:\n",
        "    d=i%10\n",
        "    if d%2==0:\n",
        "          sum=sum+d\n",
        "    else:\n",
        "        prod=prod*d\n",
        "    i=i//10\n",
        "print(f'sum of even digits is {sum} and product of odd digits is {prod}')\n"
      ],
      "metadata": {
        "colab": {
          "base_uri": "https://localhost:8080/"
        },
        "id": "uuY3A3BXUSY0",
        "outputId": "586516a2-6342-460d-ad0b-314cf33b2f7a"
      },
      "execution_count": 3,
      "outputs": [
        {
          "output_type": "stream",
          "name": "stdout",
          "text": [
            " enter the number : 123456\n",
            "sum of even digits is 12 and product of odd digits is 15\n"
          ]
        }
      ]
    }
  ]
}