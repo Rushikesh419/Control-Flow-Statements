{
  "nbformat": 4,
  "nbformat_minor": 0,
  "metadata": {
    "colab": {
      "provenance": [],
      "authorship_tag": "ABX9TyPv4YxOrOb4DyuRBPTuwJFW",
      "include_colab_link": true
    },
    "kernelspec": {
      "name": "python3",
      "display_name": "Python 3"
    },
    "language_info": {
      "name": "python"
    }
  },
  "cells": [
    {
      "cell_type": "markdown",
      "metadata": {
        "id": "view-in-github",
        "colab_type": "text"
      },
      "source": [
        "<a href=\"https://colab.research.google.com/github/Rushikesh419/Control-Flow-Statements/blob/main/arithimatic%20mean%20of%20grouped%20and%20ungrouped%20data.ipynb\" target=\"_parent\"><img src=\"https://colab.research.google.com/assets/colab-badge.svg\" alt=\"Open In Colab\"/></a>"
      ]
    },
    {
      "cell_type": "code",
      "source": [
        "# to find arithimatic mean for ungrouped data\n",
        "n=int(input('enter the number user wants to put : '))\n",
        "sum=0\n",
        "sumfr=0\n",
        "for i in range(1,n+1):\n",
        "    a=int(input('enter the number: '))\n",
        "    b=int(input('enter its frequency : '))\n",
        "    mul= a * b\n",
        "    sum = sum + mul\n",
        "    sumfr = sumfr+b\n",
        "print(f'total sum is {sum}')\n",
        "AM=sum/sumfr\n",
        "print(f'arithimatic mean is {AM}')"
      ],
      "metadata": {
        "colab": {
          "base_uri": "https://localhost:8080/"
        },
        "id": "jGPgTuiokieG",
        "outputId": "a0ce57f2-f64f-4ae3-cabb-f5fb5be2c372"
      },
      "execution_count": 6,
      "outputs": [
        {
          "output_type": "stream",
          "name": "stdout",
          "text": [
            "enter the number user wants to put : 3\n",
            "enter the number: 6\n",
            "enter its frequency : 3\n",
            "enter the number: 9\n",
            "enter its frequency : 5\n",
            "enter the number: 9\n",
            "enter its frequency : 2\n",
            "total sum is 81\n",
            "arithimatic mean is 8.1\n"
          ]
        }
      ]
    },
    {
      "cell_type": "code",
      "source": [
        "# mean of grouped data\n",
        "n=int(input('number of observations : '))\n",
        "sum=0\n",
        "sumfr=0\n",
        "for i in range (1,n+1):\n",
        "    low=int(input('enter lower value : '))\n",
        "    up=int(input('enter upper value : '))\n",
        "    fr=int(input('enter the frequency : '))\n",
        "    if up>low:\n",
        "        class_mark=(up+low)/2\n",
        "        print('class_mark = ',class_mark)\n",
        "        mul=class_mark*fr\n",
        "        sum=sum+mul\n",
        "        sumfr=sumfr+fr\n",
        "    else:\n",
        "        print('upper value must be greater than lower value')\n",
        "        break\n",
        "print(f'total sum is {sum}')\n",
        "print(f'total frequencies {sumfr}')\n",
        "print(f'the arithimatic mean of the data is {sum/sumfr}')"
      ],
      "metadata": {
        "colab": {
          "base_uri": "https://localhost:8080/"
        },
        "id": "4ZdNawVLkyUW",
        "outputId": "c43666c4-e6fe-4921-f29b-a7ab25080bbd"
      },
      "execution_count": 8,
      "outputs": [
        {
          "output_type": "stream",
          "name": "stdout",
          "text": [
            "number of observations : 4\n",
            "enter lower value : 0\n",
            "enter upper value : 10\n",
            "enter the frequency : 3\n",
            "class_mark =  5.0\n",
            "enter lower value : 10\n",
            "enter upper value : 20\n",
            "enter the frequency : 4\n",
            "class_mark =  15.0\n",
            "enter lower value : 20\n",
            "enter upper value : 30\n",
            "enter the frequency : 5\n",
            "class_mark =  25.0\n",
            "enter lower value : 30\n",
            "enter upper value : 40\n",
            "enter the frequency : 6\n",
            "class_mark =  35.0\n",
            "total sum is 410.0\n",
            "total frequencies 18\n",
            "the arithimatic mean of the data is 22.77777777777778\n"
          ]
        }
      ]
    }
  ]
}