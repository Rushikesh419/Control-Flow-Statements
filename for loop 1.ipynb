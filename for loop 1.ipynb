{
  "nbformat": 4,
  "nbformat_minor": 0,
  "metadata": {
    "colab": {
      "provenance": [],
      "authorship_tag": "ABX9TyNVmFlS8EzLuRpq1mnJwWBN",
      "include_colab_link": true
    },
    "kernelspec": {
      "name": "python3",
      "display_name": "Python 3"
    },
    "language_info": {
      "name": "python"
    }
  },
  "cells": [
    {
      "cell_type": "markdown",
      "metadata": {
        "id": "view-in-github",
        "colab_type": "text"
      },
      "source": [
        "<a href=\"https://colab.research.google.com/github/Rushikesh419/Control-Flow-Statements/blob/main/for%20loop%201.ipynb\" target=\"_parent\"><img src=\"https://colab.research.google.com/assets/colab-badge.svg\" alt=\"Open In Colab\"/></a>"
      ]
    },
    {
      "cell_type": "code",
      "execution_count": 2,
      "metadata": {
        "colab": {
          "base_uri": "https://localhost:8080/"
        },
        "id": "Vp3cIhrzDrjU",
        "outputId": "84d582bc-8062-4616-c6e8-3d9e8828161e"
      },
      "outputs": [
        {
          "output_type": "stream",
          "name": "stdout",
          "text": [
            "total cost 60\n"
          ]
        }
      ],
      "source": [
        "#calculate total cost of the items in shopping cart\n",
        "prices=[10,20,30]\n",
        "total=0\n",
        "for price in prices:\n",
        "    total+=price\n",
        "print(f\"total cost {total}\")"
      ]
    },
    {
      "cell_type": "code",
      "source": [
        "for item in range(0,10,2):\n",
        "    print(item)"
      ],
      "metadata": {
        "colab": {
          "base_uri": "https://localhost:8080/"
        },
        "id": "tEEypI0lGj7L",
        "outputId": "39fc83aa-3b7d-4ae4-a552-54e515608a9f"
      },
      "execution_count": 3,
      "outputs": [
        {
          "output_type": "stream",
          "name": "stdout",
          "text": [
            "0\n",
            "2\n",
            "4\n",
            "6\n",
            "8\n"
          ]
        }
      ]
    },
    {
      "cell_type": "code",
      "source": [
        "#draw f shape by x\n",
        "numbers=[5,2,5,2,2]\n",
        "for x_count in numbers:\n",
        "    print('x'* x_count)\n",
        "\n",
        "\n"
      ],
      "metadata": {
        "colab": {
          "base_uri": "https://localhost:8080/"
        },
        "id": "FRc-yFUSGmSa",
        "outputId": "cebea051-60c6-40ab-ad50-92bca3a6c042"
      },
      "execution_count": 4,
      "outputs": [
        {
          "output_type": "stream",
          "name": "stdout",
          "text": [
            "xxxxx\n",
            "xx\n",
            "xxxxx\n",
            "xx\n",
            "xx\n"
          ]
        }
      ]
    },
    {
      "cell_type": "code",
      "source": [
        "#by using inner loop\n",
        "for x_count in numbers:\n",
        "    output=''\n",
        "    for count in range(x_count):\n",
        "        output+='x'\n",
        "    print(output)"
      ],
      "metadata": {
        "colab": {
          "base_uri": "https://localhost:8080/"
        },
        "id": "gVjfss8GGwYR",
        "outputId": "4fd272a6-deaa-4222-f956-a9a31798ebba"
      },
      "execution_count": 5,
      "outputs": [
        {
          "output_type": "stream",
          "name": "stdout",
          "text": [
            "xxxxx\n",
            "xx\n",
            "xxxxx\n",
            "xx\n",
            "xx\n"
          ]
        }
      ]
    }
  ]
}